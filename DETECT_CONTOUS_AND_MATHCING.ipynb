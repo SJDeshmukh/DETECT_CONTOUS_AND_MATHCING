{
 "cells": [
  {
   "cell_type": "code",
   "execution_count": 1,
   "id": "011094e3",
   "metadata": {},
   "outputs": [],
   "source": [
    "import cv2\n",
    "import numpy as np\n",
    "\n",
    "# Initialize camera and ORB detector\n",
    "cap = cv2.VideoCapture(0)\n",
    "detector = cv2.ORB_create()\n",
    "\n",
    "# Initialize empty lists for keypoints and descriptors\n",
    "kp_list = []\n",
    "des_list = []\n",
    "\n",
    "while True:\n",
    "    # Capture frame from camera\n",
    "    ret, frame = cap.read()\n",
    "    \n",
    "    # Convert frame to grayscale\n",
    "    gray = cv2.cvtColor(frame, cv2.COLOR_BGR2GRAY)\n",
    "    \n",
    "    # Detect keypoints and descriptors using ORB\n",
    "    keypoints, descriptors = detector.detectAndCompute(gray, None)\n",
    "    \n",
    "    # Add keypoints and descriptors to lists\n",
    "    kp_list.append(keypoints)\n",
    "    des_list.append(descriptors)\n",
    "    \n",
    "    # If we have more than one frame, match keypoints and estimate motion\n",
    "    if len(kp_list) > 1:\n",
    "        # Match keypoints between last two frames\n",
    "        matcher = cv2.BFMatcher(cv2.NORM_HAMMING, crossCheck=True)\n",
    "        matches = matcher.match(des_list[-2], des_list[-1])\n",
    "        \n",
    "        # Filter out bad matches using RANSAC\n",
    "        src_pts = np.float32([kp_list[-2][m.queryIdx].pt for m in matches]).reshape(-1, 1, 2)\n",
    "        dst_pts = np.float32([kp_list[-1][m.trainIdx].pt for m in matches]).reshape(-1, 1, 2)\n",
    "        M, mask = cv2.findHomography(src_pts, dst_pts, cv2.RANSAC, 5.0)\n",
    "        \n",
    "        # Draw matches on current frame\n",
    "        match_img = cv2.drawMatches(frame, kp_list[-2], frame, kp_list[-1], matches, None, flags=2)\n",
    "        \n",
    "        # If we have a good homography, update our position estimate\n",
    "        if M is not None:\n",
    "            x, y, z = M[:3, 2]\n",
    "\n",
    "    # Display the current frame\n",
    "        cv2.imshow(\"SLAM\", match_img)\n",
    "        key = cv2.waitKey(1)\n",
    "        if key == ord('q'):\n",
    "            break\n",
    "\n",
    "# Release the camera and close the window\n",
    "cap.release()\n",
    "cv2.destroyAllWindows()\n"
   ]
  },
  {
   "cell_type": "code",
   "execution_count": null,
   "id": "dda7ab88",
   "metadata": {},
   "outputs": [],
   "source": []
  }
 ],
 "metadata": {
  "kernelspec": {
   "display_name": "Python 3",
   "language": "python",
   "name": "python3"
  },
  "language_info": {
   "codemirror_mode": {
    "name": "ipython",
    "version": 3
   },
   "file_extension": ".py",
   "mimetype": "text/x-python",
   "name": "python",
   "nbconvert_exporter": "python",
   "pygments_lexer": "ipython3",
   "version": "3.8.8"
  }
 },
 "nbformat": 4,
 "nbformat_minor": 5
}
